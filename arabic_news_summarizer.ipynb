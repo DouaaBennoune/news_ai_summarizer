{
  "nbformat": 4,
  "nbformat_minor": 0,
  "metadata": {
    "colab": {
      "provenance": [],
      "gpuType": "T4",
      "mount_file_id": "1wpYZ_lb2FwVrOPSRAHbiTPYDdQ9i0l3c",
      "authorship_tag": "ABX9TyOZVGCNg2tLvODdo8J0UZWe",
      "include_colab_link": true
    },
    "kernelspec": {
      "name": "python3",
      "display_name": "Python 3"
    },
    "language_info": {
      "name": "python"
    },
    "accelerator": "GPU"
  },
  "cells": [
    {
      "cell_type": "markdown",
      "metadata": {
        "id": "view-in-github",
        "colab_type": "text"
      },
      "source": [
        "<a href=\"https://colab.research.google.com/github/DouaaBennoune/news_ai_summarizer/blob/main/arabic_news_summarizer.ipynb\" target=\"_parent\"><img src=\"https://colab.research.google.com/assets/colab-badge.svg\" alt=\"Open In Colab\"/></a>"
      ]
    },
    {
      "cell_type": "markdown",
      "source": [
        "# Install Required Libraries\n"
      ],
      "metadata": {
        "id": "3qu0fs9F0LcI"
      }
    },
    {
      "cell_type": "code",
      "execution_count": 4,
      "metadata": {
        "colab": {
          "base_uri": "https://localhost:8080/"
        },
        "collapsed": true,
        "id": "QAvCXcuPepXF",
        "outputId": "2124ff7f-51b4-4ee7-b3dd-1a0082d388c7"
      },
      "outputs": [
        {
          "output_type": "stream",
          "name": "stdout",
          "text": [
            "Requirement already satisfied: pandas in /usr/local/lib/python3.11/dist-packages (2.2.2)\n",
            "Requirement already satisfied: numpy in /usr/local/lib/python3.11/dist-packages (2.0.2)\n",
            "Requirement already satisfied: transformers in /usr/local/lib/python3.11/dist-packages (4.51.3)\n",
            "Requirement already satisfied: datasets in /usr/local/lib/python3.11/dist-packages (3.5.0)\n",
            "Requirement already satisfied: torch in /usr/local/lib/python3.11/dist-packages (2.6.0+cu124)\n",
            "Collecting evaluate\n",
            "  Downloading evaluate-0.4.3-py3-none-any.whl.metadata (9.2 kB)\n",
            "Collecting rouge_score\n",
            "  Downloading rouge_score-0.1.2.tar.gz (17 kB)\n",
            "  Preparing metadata (setup.py) ... \u001b[?25l\u001b[?25hdone\n",
            "Requirement already satisfied: python-dateutil>=2.8.2 in /usr/local/lib/python3.11/dist-packages (from pandas) (2.8.2)\n",
            "Requirement already satisfied: pytz>=2020.1 in /usr/local/lib/python3.11/dist-packages (from pandas) (2025.2)\n",
            "Requirement already satisfied: tzdata>=2022.7 in /usr/local/lib/python3.11/dist-packages (from pandas) (2025.2)\n",
            "Requirement already satisfied: filelock in /usr/local/lib/python3.11/dist-packages (from transformers) (3.18.0)\n",
            "Requirement already satisfied: huggingface-hub<1.0,>=0.30.0 in /usr/local/lib/python3.11/dist-packages (from transformers) (0.30.2)\n",
            "Requirement already satisfied: packaging>=20.0 in /usr/local/lib/python3.11/dist-packages (from transformers) (24.2)\n",
            "Requirement already satisfied: pyyaml>=5.1 in /usr/local/lib/python3.11/dist-packages (from transformers) (6.0.2)\n",
            "Requirement already satisfied: regex!=2019.12.17 in /usr/local/lib/python3.11/dist-packages (from transformers) (2024.11.6)\n",
            "Requirement already satisfied: requests in /usr/local/lib/python3.11/dist-packages (from transformers) (2.32.3)\n",
            "Requirement already satisfied: tokenizers<0.22,>=0.21 in /usr/local/lib/python3.11/dist-packages (from transformers) (0.21.1)\n",
            "Requirement already satisfied: safetensors>=0.4.3 in /usr/local/lib/python3.11/dist-packages (from transformers) (0.5.3)\n",
            "Requirement already satisfied: tqdm>=4.27 in /usr/local/lib/python3.11/dist-packages (from transformers) (4.67.1)\n",
            "Requirement already satisfied: pyarrow>=15.0.0 in /usr/local/lib/python3.11/dist-packages (from datasets) (18.1.0)\n",
            "Requirement already satisfied: dill<0.3.9,>=0.3.0 in /usr/local/lib/python3.11/dist-packages (from datasets) (0.3.8)\n",
            "Requirement already satisfied: xxhash in /usr/local/lib/python3.11/dist-packages (from datasets) (3.5.0)\n",
            "Requirement already satisfied: multiprocess<0.70.17 in /usr/local/lib/python3.11/dist-packages (from datasets) (0.70.16)\n",
            "Requirement already satisfied: fsspec<=2024.12.0,>=2023.1.0 in /usr/local/lib/python3.11/dist-packages (from fsspec[http]<=2024.12.0,>=2023.1.0->datasets) (2024.12.0)\n",
            "Requirement already satisfied: aiohttp in /usr/local/lib/python3.11/dist-packages (from datasets) (3.11.15)\n",
            "Requirement already satisfied: typing-extensions>=4.10.0 in /usr/local/lib/python3.11/dist-packages (from torch) (4.13.2)\n",
            "Requirement already satisfied: networkx in /usr/local/lib/python3.11/dist-packages (from torch) (3.4.2)\n",
            "Requirement already satisfied: jinja2 in /usr/local/lib/python3.11/dist-packages (from torch) (3.1.6)\n",
            "Requirement already satisfied: nvidia-cuda-nvrtc-cu12==12.4.127 in /usr/local/lib/python3.11/dist-packages (from torch) (12.4.127)\n",
            "Requirement already satisfied: nvidia-cuda-runtime-cu12==12.4.127 in /usr/local/lib/python3.11/dist-packages (from torch) (12.4.127)\n",
            "Requirement already satisfied: nvidia-cuda-cupti-cu12==12.4.127 in /usr/local/lib/python3.11/dist-packages (from torch) (12.4.127)\n",
            "Requirement already satisfied: nvidia-cudnn-cu12==9.1.0.70 in /usr/local/lib/python3.11/dist-packages (from torch) (9.1.0.70)\n",
            "Requirement already satisfied: nvidia-cublas-cu12==12.4.5.8 in /usr/local/lib/python3.11/dist-packages (from torch) (12.4.5.8)\n",
            "Requirement already satisfied: nvidia-cufft-cu12==11.2.1.3 in /usr/local/lib/python3.11/dist-packages (from torch) (11.2.1.3)\n",
            "Requirement already satisfied: nvidia-curand-cu12==10.3.5.147 in /usr/local/lib/python3.11/dist-packages (from torch) (10.3.5.147)\n",
            "Requirement already satisfied: nvidia-cusolver-cu12==11.6.1.9 in /usr/local/lib/python3.11/dist-packages (from torch) (11.6.1.9)\n",
            "Requirement already satisfied: nvidia-cusparse-cu12==12.3.1.170 in /usr/local/lib/python3.11/dist-packages (from torch) (12.3.1.170)\n",
            "Requirement already satisfied: nvidia-cusparselt-cu12==0.6.2 in /usr/local/lib/python3.11/dist-packages (from torch) (0.6.2)\n",
            "Requirement already satisfied: nvidia-nccl-cu12==2.21.5 in /usr/local/lib/python3.11/dist-packages (from torch) (2.21.5)\n",
            "Requirement already satisfied: nvidia-nvtx-cu12==12.4.127 in /usr/local/lib/python3.11/dist-packages (from torch) (12.4.127)\n",
            "Requirement already satisfied: nvidia-nvjitlink-cu12==12.4.127 in /usr/local/lib/python3.11/dist-packages (from torch) (12.4.127)\n",
            "Requirement already satisfied: triton==3.2.0 in /usr/local/lib/python3.11/dist-packages (from torch) (3.2.0)\n",
            "Requirement already satisfied: sympy==1.13.1 in /usr/local/lib/python3.11/dist-packages (from torch) (1.13.1)\n",
            "Requirement already satisfied: mpmath<1.4,>=1.1.0 in /usr/local/lib/python3.11/dist-packages (from sympy==1.13.1->torch) (1.3.0)\n",
            "Requirement already satisfied: absl-py in /usr/local/lib/python3.11/dist-packages (from rouge_score) (1.4.0)\n",
            "Requirement already satisfied: nltk in /usr/local/lib/python3.11/dist-packages (from rouge_score) (3.9.1)\n",
            "Requirement already satisfied: six>=1.14.0 in /usr/local/lib/python3.11/dist-packages (from rouge_score) (1.17.0)\n",
            "Requirement already satisfied: aiohappyeyeballs>=2.3.0 in /usr/local/lib/python3.11/dist-packages (from aiohttp->datasets) (2.6.1)\n",
            "Requirement already satisfied: aiosignal>=1.1.2 in /usr/local/lib/python3.11/dist-packages (from aiohttp->datasets) (1.3.2)\n",
            "Requirement already satisfied: attrs>=17.3.0 in /usr/local/lib/python3.11/dist-packages (from aiohttp->datasets) (25.3.0)\n",
            "Requirement already satisfied: frozenlist>=1.1.1 in /usr/local/lib/python3.11/dist-packages (from aiohttp->datasets) (1.6.0)\n",
            "Requirement already satisfied: multidict<7.0,>=4.5 in /usr/local/lib/python3.11/dist-packages (from aiohttp->datasets) (6.4.3)\n",
            "Requirement already satisfied: propcache>=0.2.0 in /usr/local/lib/python3.11/dist-packages (from aiohttp->datasets) (0.3.1)\n",
            "Requirement already satisfied: yarl<2.0,>=1.17.0 in /usr/local/lib/python3.11/dist-packages (from aiohttp->datasets) (1.20.0)\n",
            "Requirement already satisfied: charset-normalizer<4,>=2 in /usr/local/lib/python3.11/dist-packages (from requests->transformers) (3.4.1)\n",
            "Requirement already satisfied: idna<4,>=2.5 in /usr/local/lib/python3.11/dist-packages (from requests->transformers) (3.10)\n",
            "Requirement already satisfied: urllib3<3,>=1.21.1 in /usr/local/lib/python3.11/dist-packages (from requests->transformers) (2.3.0)\n",
            "Requirement already satisfied: certifi>=2017.4.17 in /usr/local/lib/python3.11/dist-packages (from requests->transformers) (2025.1.31)\n",
            "Requirement already satisfied: MarkupSafe>=2.0 in /usr/local/lib/python3.11/dist-packages (from jinja2->torch) (3.0.2)\n",
            "Requirement already satisfied: click in /usr/local/lib/python3.11/dist-packages (from nltk->rouge_score) (8.1.8)\n",
            "Requirement already satisfied: joblib in /usr/local/lib/python3.11/dist-packages (from nltk->rouge_score) (1.4.2)\n",
            "Downloading evaluate-0.4.3-py3-none-any.whl (84 kB)\n",
            "\u001b[2K   \u001b[90m━━━━━━━━━━━━━━━━━━━━━━━━━━━━━━━━━━━━━━━━\u001b[0m \u001b[32m84.0/84.0 kB\u001b[0m \u001b[31m3.7 MB/s\u001b[0m eta \u001b[36m0:00:00\u001b[0m\n",
            "\u001b[?25hBuilding wheels for collected packages: rouge_score\n",
            "  Building wheel for rouge_score (setup.py) ... \u001b[?25l\u001b[?25hdone\n",
            "  Created wheel for rouge_score: filename=rouge_score-0.1.2-py3-none-any.whl size=24934 sha256=ab6244db075b0498db1727fee0eb9fb84e6c531cf648464461a1ef548279f70e\n",
            "  Stored in directory: /root/.cache/pip/wheels/1e/19/43/8a442dc83660ca25e163e1bd1f89919284ab0d0c1475475148\n",
            "Successfully built rouge_score\n",
            "Installing collected packages: rouge_score, evaluate\n",
            "Successfully installed evaluate-0.4.3 rouge_score-0.1.2\n"
          ]
        }
      ],
      "source": [
        "!pip install pandas numpy transformers datasets torch evaluate rouge_score"
      ]
    },
    {
      "cell_type": "markdown",
      "source": [
        "# Uploading DataSet"
      ],
      "metadata": {
        "id": "wCiHB6TU0Pg6"
      }
    },
    {
      "cell_type": "code",
      "source": [
        "import torch\n",
        "print(\"GPU available:\", torch.cuda.is_available())\n",
        "if torch.cuda.is_available():\n",
        "    device = torch.device(\"cuda\")\n",
        "    print(f\"Using GPU: {torch.cuda.get_device_name(0)}\")\n",
        "else:\n",
        "    device = torch.device(\"cpu\")\n",
        "    print(\"Using CPU\")\n",
        "\n",
        "from google.colab import drive\n",
        "drive.mount('/content/drive')\n",
        "import os\n",
        "for root, dirs, files in os.walk('/content/drive/MyDrive'):\n",
        "    print(root)\n",
        "    for file in files:\n",
        "        print(file)\n",
        "import pandas as pd\n",
        "\n",
        "# Replace this path with the actual path to your file\n",
        "file_path = '/content/drive/MyDrive/bbc_news_arabic_summarization.csv'\n",
        "\n",
        "# Load the dataset\n",
        "df = pd.read_csv(file_path)\n",
        "\n",
        "# Display the first few rows\n",
        "print(df.head())"
      ],
      "metadata": {
        "colab": {
          "base_uri": "https://localhost:8080/"
        },
        "collapsed": true,
        "id": "pT1QHcSFfJtd",
        "outputId": "8efdc34b-0eef-40d2-a47f-bcd08d52274b"
      },
      "execution_count": 5,
      "outputs": [
        {
          "output_type": "stream",
          "name": "stdout",
          "text": [
            "GPU available: False\n",
            "Using CPU\n",
            "Drive already mounted at /content/drive; to attempt to forcibly remount, call drive.mount(\"/content/drive\", force_remount=True).\n",
            "/content/drive/MyDrive\n",
            "bbc_news_arabic_summarization.csv\n",
            "arabic news summarizer.ipynb\n",
            "Bennoune D.jpg\n",
            "Lesson Schedule.gsheet\n",
            "Document sans titre (11).gdoc\n",
            "Rapport TP1 modelisation.gdoc\n",
            "thesis plan.gdoc\n",
            "50 Free Online Courses.pdf\n",
            "raspberry Pi and ESP32 Connection Methodes.gdoc\n",
            "Rapport boussaha el batoul.pdf\n",
            "Recemmend project for each section from small to b....gdoc\n",
            "Did you actually make a rezearch on the german job....gdoc\n",
            "Image Classification and K-Nearest Neighbors (KNN).gdoc\n",
            "IBM  Introduction to Computer Vision Course Summary.gdoc\n",
            "Write me a roadmap that makes me have a solid base....gdoc\n",
            "fig.gdoc\n",
            "filament recycling project.gdoc\n",
            "Rapport (4).gdoc\n",
            "batoul.gdoc\n",
            "schedule of this month.gdoc\n",
            "Achieving high-quality filament.gdoc\n",
            "german A1 plan.gdoc\n",
            "AI filament.gdoc\n",
            "electronique de puissance.pdf\n",
            "electronique de puissance.gdoc\n",
            "meilleur resume chapitre 2 electronique.gdoc\n",
            "TP1 microprocesseur initiation  .gdoc\n",
            "Document sans titre (10).gdoc\n",
            "tp 2 assembleur.gdoc\n",
            "serie 1 electronique.gdoc\n",
            "Rapport de puissance de lelectronique TP 1.gdoc\n",
            " Rapport de puissance de lelectronique TP 2.gdoc\n",
            "courbat.gdoc\n",
            "MASTER MACHINE LEARNING.gdoc\n",
            "AI_Engineer_Roadmap.pdf.gdoc\n",
            "house prices prediction.gdoc\n",
            "Lesson: Introduction to Classification in Machine Learning.gdoc\n",
            "Support Vector Machines (SVM).gdoc\n",
            " Rapport tp 3 commande.gdoc\n",
            "Rapport (3).gdoc\n",
            "details about my tasks.gdoc\n",
            "Projects to work at INTO AI.gdoc\n",
            "Document sans titre (9).gdoc\n",
            "Document sans titre (8).gdoc\n",
            "AI agent for Tic-tac-toe.gdoc\n",
            "tp2222.gdoc\n",
            "ChatGPT.gdoc\n",
            "courbat 2.gdoc\n",
            "commande des systemes lineaires summary.gdoc\n",
            " Rapport tp 3 commande.pdf\n",
            "Document sans titre (7).gdoc\n",
            "Sab's 2025 Digital Planner.pdf\n",
            "tp3 micro.gdoc\n",
            "Copie de Copie de Rapport commande.gdoc\n",
            "Deep Learning with Keras and Tensorflow.gdoc\n",
            "Introduction to deep learning with IBM.gdoc\n",
            "JOB JOB JOB.gdoc\n",
            "carte.jpg\n",
            "Document sans titre (6).gdoc\n",
            "Master Linear Regression.gdoc\n",
            "Document sans titre (5).gdoc\n",
            "Document sans titre (4).gdoc\n",
            "GENAI ENGINEER.gdoc\n",
            "build critical thinking problem solving .gdoc\n",
            "Write these german akkusativ verbs with their engl....gdoc\n",
            "algos1\n",
            "Diagramme sans nom.drawio\n",
            "A2 level check list .gdoc\n",
            "Document sans titre (3).gdoc\n",
            "Rapport (2).gdoc\n",
            "Document sans titre (2).gdoc\n",
            "MIRA A2.gdoc\n",
            "CHATGPT YOUTUBE RESUME BUS.gdoc\n",
            "Resume BUS chapitre 1.gdoc\n",
            "Thesis .gdoc\n",
            "Rapport (1).gdoc\n",
            "systeme echantillones.gdoc\n",
            "automate tp1.gdoc\n",
            "actionneurs.gdoc\n",
            "presentation.gdoc\n",
            "memoire word.gdoc\n",
            "Cahier De Charge.gdoc\n",
            "Programmation Pas a Pas.gdoc\n",
            "Maintenance.gdoc\n",
            " revision automate tp.gdoc\n",
            "Rapport.gdoc\n",
            "Copie de Rapport.gdoc\n",
            "Document sans titre (1).gdoc\n",
            "🔥 Fine-Tuning Project Ideas by Domain + Model Suggestions.gdoc\n",
            "Document sans titre.gdoc\n",
            "/content/drive/MyDrive/Epson iPrint\n",
            "EPSON002.pdf\n",
            "EPSON003.pdf\n",
            "EPSON001.pdf\n",
            "EPSON009.pdf\n",
            "Rapport boussaha el batoul.gdoc\n",
            "/content/drive/MyDrive/Colab Notebooks\n",
            "Untitled0.ipynb\n",
            "/content/drive/MyDrive/mt5_arabic_summarization\n",
            "                                        id  \\\n",
            "0  140323_russian_troops_crimea_naval_base   \n",
            "1                    130528_egypt_nile_dam   \n",
            "2                           world-47242349   \n",
            "3                        vert-cul-55078328   \n",
            "4                     141023_yemen_hodeida   \n",
            "\n",
            "                                                 url  \\\n",
            "0  https://www.bbc.com/arabic/worldnews/2014/03/1...   \n",
            "1  https://www.bbc.com/arabic/middleeast/2013/05/...   \n",
            "2          https://www.bbc.com/arabic/world-47242349   \n",
            "3       https://www.bbc.com/arabic/vert-cul-55078328   \n",
            "4  https://www.bbc.com/arabic/middleeast/2014/10/...   \n",
            "\n",
            "                                               title  \\\n",
            "0           القوات الأوكرانية تبدأ الانسحاب من القرم   \n",
            "1    هل يفرض سد النهضة الإثيوبي واقعا جديدا على مصر؟   \n",
            "2  تعرف على منطقة كشمير التي تسببت بحربين بين اله...   \n",
            "3  ماذا تعرف عن العالم الخفي للمعابد اليابانية ال...   \n",
            "4  اشتباك بين الحوثيين و\"الحراك التهامي\" في الحدي...   \n",
            "\n",
            "                                             summary  \\\n",
            "0  بدأت القوات الأوكرانية الانسحاب من شبه جزيرة ا...   \n",
            "1  \"هل سيتم تغيير العبارة الشهيرة للمؤرخ اليوناني...   \n",
            "2  قالت الشرطة في القطاع الهندي من إقليم كشمير إن...   \n",
            "3  في عام 816، تجول راهب يدعى كوكاي، في المنحدرات...   \n",
            "4  أكد مصدر في \"الحراك التهامي\" لأبناء محافظة الح...   \n",
            "\n",
            "                                                text  \n",
            "0  وكان الرئيس الأوكراني المؤقت، الكسندر تورتشينو...  \n",
            "1  بحلول عام 2050 ستحتاج مصر إلى 21 مليار متر مكع...  \n",
            "2  وذكرت وكالة الأنباء المحلية (جي.إن.إس) أن جماع...  \n",
            "3  ووقع اختياره على واد عمقه 800 متر محاط بثماني ...  \n",
            "4  مسلح حوثي في إب وقال المصدر إن المسلحين الحوثي...  \n"
          ]
        }
      ]
    },
    {
      "cell_type": "markdown",
      "source": [
        "# Exploring Data"
      ],
      "metadata": {
        "id": "Apmr2rro0v2Q"
      }
    },
    {
      "cell_type": "code",
      "source": [
        "import pandas as pd\n",
        "file_path = '/content/drive/MyDrive/bbc_news_arabic_summarization.csv'\n",
        "\n",
        "df = pd.read_csv(file_path)\n",
        "print(df.head())\n",
        "print(df.info())\n",
        "\n"
      ],
      "metadata": {
        "colab": {
          "base_uri": "https://localhost:8080/"
        },
        "collapsed": true,
        "id": "OehvraHFzfMz",
        "outputId": "f52d6e9d-a0d3-4606-e254-c7ded3265373"
      },
      "execution_count": 6,
      "outputs": [
        {
          "output_type": "stream",
          "name": "stdout",
          "text": [
            "                                        id  \\\n",
            "0  140323_russian_troops_crimea_naval_base   \n",
            "1                    130528_egypt_nile_dam   \n",
            "2                           world-47242349   \n",
            "3                        vert-cul-55078328   \n",
            "4                     141023_yemen_hodeida   \n",
            "\n",
            "                                                 url  \\\n",
            "0  https://www.bbc.com/arabic/worldnews/2014/03/1...   \n",
            "1  https://www.bbc.com/arabic/middleeast/2013/05/...   \n",
            "2          https://www.bbc.com/arabic/world-47242349   \n",
            "3       https://www.bbc.com/arabic/vert-cul-55078328   \n",
            "4  https://www.bbc.com/arabic/middleeast/2014/10/...   \n",
            "\n",
            "                                               title  \\\n",
            "0           القوات الأوكرانية تبدأ الانسحاب من القرم   \n",
            "1    هل يفرض سد النهضة الإثيوبي واقعا جديدا على مصر؟   \n",
            "2  تعرف على منطقة كشمير التي تسببت بحربين بين اله...   \n",
            "3  ماذا تعرف عن العالم الخفي للمعابد اليابانية ال...   \n",
            "4  اشتباك بين الحوثيين و\"الحراك التهامي\" في الحدي...   \n",
            "\n",
            "                                             summary  \\\n",
            "0  بدأت القوات الأوكرانية الانسحاب من شبه جزيرة ا...   \n",
            "1  \"هل سيتم تغيير العبارة الشهيرة للمؤرخ اليوناني...   \n",
            "2  قالت الشرطة في القطاع الهندي من إقليم كشمير إن...   \n",
            "3  في عام 816، تجول راهب يدعى كوكاي، في المنحدرات...   \n",
            "4  أكد مصدر في \"الحراك التهامي\" لأبناء محافظة الح...   \n",
            "\n",
            "                                                text  \n",
            "0  وكان الرئيس الأوكراني المؤقت، الكسندر تورتشينو...  \n",
            "1  بحلول عام 2050 ستحتاج مصر إلى 21 مليار متر مكع...  \n",
            "2  وذكرت وكالة الأنباء المحلية (جي.إن.إس) أن جماع...  \n",
            "3  ووقع اختياره على واد عمقه 800 متر محاط بثماني ...  \n",
            "4  مسلح حوثي في إب وقال المصدر إن المسلحين الحوثي...  \n",
            "<class 'pandas.core.frame.DataFrame'>\n",
            "RangeIndex: 46897 entries, 0 to 46896\n",
            "Data columns (total 5 columns):\n",
            " #   Column   Non-Null Count  Dtype \n",
            "---  ------   --------------  ----- \n",
            " 0   id       46897 non-null  object\n",
            " 1   url      46897 non-null  object\n",
            " 2   title    46897 non-null  object\n",
            " 3   summary  46897 non-null  object\n",
            " 4   text     46897 non-null  object\n",
            "dtypes: object(5)\n",
            "memory usage: 1.8+ MB\n",
            "None\n"
          ]
        }
      ]
    },
    {
      "cell_type": "markdown",
      "source": [
        "**Token Length**"
      ],
      "metadata": {
        "id": "uxmUXOEO02E8"
      }
    },
    {
      "cell_type": "code",
      "source": [
        "import matplotlib.pyplot as plt\n",
        "df['summary_length'] = df['summary'].apply(lambda x: len(str(x).split()))\n",
        "\n",
        "# Show distribution\n",
        "df['summary_length'].hist(bins=50)\n",
        "plt.title(\"Summary Token Length Distribution\")\n",
        "plt.xlabel(\"Number of Tokens\")\n",
        "plt.ylabel(\"Number of Samples\")\n",
        "plt.show()"
      ],
      "metadata": {
        "colab": {
          "base_uri": "https://localhost:8080/",
          "height": 472
        },
        "id": "_K3Kx3AZz1Ko",
        "outputId": "31030add-6254-425f-c1c0-a2e4389b411a"
      },
      "execution_count": 7,
      "outputs": [
        {
          "output_type": "display_data",
          "data": {
            "text/plain": [
              "<Figure size 640x480 with 1 Axes>"
            ],
            "image/png": "[encoded data removed]"
          },
          "metadata": {}
        }
      ]
    },
    {
      "cell_type": "markdown",
      "source": [
        "we notice our max length can be : 50"
      ],
      "metadata": {
        "id": "e2TCSSS-17_g"
      }
    },
    {
      "cell_type": "code",
      "source": [
        "from ast import Lambda\n",
        "df['text_length']=df['text'].apply(lambda x: len(str(x).split()))\n",
        "df['text_length'].hist(bins=50)\n",
        "plt.title(\"Text Token Length Distribution\")\n",
        "plt.xlabel(\"Number of Tokens\")\n",
        "plt.ylabel(\"Number of Samples\")"
      ],
      "metadata": {
        "id": "i5aYW5vE1OdT"
      },
      "execution_count": null,
      "outputs": []
    },
    {
      "cell_type": "markdown",
      "source": [
        "we notice that our max length can be: 512\n",
        "or max_length = 1024 if resources allow"
      ],
      "metadata": {
        "id": "Xv6LMI1t1_r0"
      }
    },
    {
      "cell_type": "markdown",
      "source": [
        "#  Loading the Model and Dataset"
      ],
      "metadata": {
        "id": "ceKvkOk2L7QT"
      }
    },
    {
      "cell_type": "code",
      "source": [
        "import torch\n",
        "from transformers import MT5ForConditionalGeneration, MT5TokenizerFast\n",
        "import pandas as pd\n",
        "from datasets import Dataset\n",
        "\n",
        "# Load pretrained model and tokenizer\n",
        "model_name = \"csebuetnlp/mT5_multilingual_XLSum\"\n",
        "model = MT5ForConditionalGeneration.from_pretrained(model_name)\n",
        "tokenizer = MT5TokenizerFast.from_pretrained(model_name)\n",
        "\n",
        "# Load your Arabic news dataset\n",
        "df = pd.read_csv(\"bbc_arabic_news_summarization.csv\")\n",
        "dataset = Dataset.from_pandas(df)\n",
        "\n",
        "# Split the dataset\n",
        "dataset = dataset.train_test_split(test_size=0.1)\n",
        "\n"
      ],
      "metadata": {
        "collapsed": true,
        "id": "Voci-nx12jTY"
      },
      "execution_count": null,
      "outputs": []
    },
    {
      "cell_type": "markdown",
      "source": [
        "# Creating the Custom Head and Freezing Base Model"
      ],
      "metadata": {
        "id": "OXvW3I6o6E-z"
      }
    },
    {
      "cell_type": "code",
      "source": [
        "import torch\n",
        "import torch.nn as nn\n",
        "from transformers import MT5ForConditionalGeneration, MT5TokenizerFast\n",
        "from transformers import Trainer, TrainingArguments\n",
        "from datasets import Dataset\n",
        "import pandas as pd\n",
        "import evaluate\n",
        "import numpy as np\n",
        "\n",
        "class AdapterLayer(nn.Module):\n",
        "    \"\"\"A simple adapter layer with down projection and up projection.\"\"\"\n",
        "    def __init__(self, input_dim, adapter_dim):\n",
        "        super().__init__()\n",
        "        self.down_proj = nn.Linear(input_dim, adapter_dim)\n",
        "        self.activation = nn.ReLU()\n",
        "        self.up_proj = nn.Linear(adapter_dim, input_dim)\n",
        "        self.layer_norm = nn.LayerNorm(input_dim)\n",
        "\n",
        "        # Initialize weights - near identity function with zero init\n",
        "        nn.init.normal_(self.down_proj.weight, std=1e-2)\n",
        "        nn.init.normal_(self.up_proj.weight, std=1e-2)\n",
        "        nn.init.zeros_(self.down_proj.bias)\n",
        "        nn.init.zeros_(self.up_proj.bias)\n",
        "\n",
        "    def forward(self, hidden_states):\n",
        "        residual = hidden_states\n",
        "        x = self.down_proj(hidden_states)\n",
        "        x = self.activation(x)\n",
        "        x = self.up_proj(x)\n",
        "        output = self.layer_norm(x + residual)\n",
        "        return output\n",
        "\n",
        "class MT5WithAdapters(nn.Module):\n",
        "    def __init__(self, base_model, adapter_dim=64):\n",
        "        super().__init__()\n",
        "        self.mt5 = base_model\n",
        "\n",
        "        # Freeze all parameters of the base model\n",
        "        for param in self.mt5.parameters():\n",
        "            param.requires_grad = False\n",
        "\n",
        "        # Add adapters to the encoder (for select layers)\n",
        "        self.encoder_adapters = nn.ModuleList()\n",
        "        # Add adapters only to every third layer of the encoder to save parameters\n",
        "        encoder_layers = self.mt5.encoder.block\n",
        "        hidden_dim = encoder_layers[0].layer[0].SelfAttention.o.weight.shape[0]\n",
        "\n",
        "        for i in range(0, len(encoder_layers), 3):\n",
        "            self.encoder_adapters.append(AdapterLayer(hidden_dim, adapter_dim))\n",
        "\n",
        "        # Add adapter to the decoder output\n",
        "        decoder_dim = self.mt5.decoder.block[0].layer[0].SelfAttention.o.weight.shape[0]\n",
        "        self.decoder_adapter = AdapterLayer(decoder_dim, adapter_dim)\n",
        "\n",
        "        # Make sure adapters are trainable\n",
        "        for adapter in self.encoder_adapters:\n",
        "            for param in adapter.parameters():\n",
        "                param.requires_grad = True\n",
        "\n",
        "        for param in self.decoder_adapter.parameters():\n",
        "            param.requires_grad = True\n",
        "\n",
        "    def forward(self, input_ids=None, attention_mask=None, decoder_input_ids=None,\n",
        "                labels=None, **kwargs):\n",
        "        # Get the base model outputs\n",
        "        outputs = self.mt5(input_ids=input_ids,\n",
        "                          attention_mask=attention_mask,\n",
        "                          decoder_input_ids=decoder_input_ids,\n",
        "                          labels=labels,\n",
        "                          output_hidden_states=True,\n",
        "                          **kwargs)\n",
        "\n",
        "        # If we're not training, just return the base model outputs\n",
        "        if not self.training:\n",
        "            return outputs\n",
        "\n",
        "        # Apply adapters to encoder hidden states\n",
        "        encoder_hidden_states = list(outputs.encoder_hidden_states)\n",
        "        for i, adapter in enumerate(self.encoder_adapters):\n",
        "            layer_idx = i * 3  # Apply to every third layer\n",
        "            if layer_idx < len(encoder_hidden_states):\n",
        "                encoder_hidden_states[layer_idx] = adapter(encoder_hidden_states[layer_idx])\n",
        "\n",
        "        # Apply adapter to decoder output\n",
        "        # For simplicity, we'll just pass through the loss\n",
        "\n",
        "        return outputs\n",
        "\n",
        "# Load the base model\n",
        "model_name = \"csebuetnlp/mT5_multilingual_XLSum\"\n",
        "base_model = MT5ForConditionalGeneration.from_pretrained(model_name)\n",
        "tokenizer = MT5TokenizerFast.from_pretrained(model_name)\n",
        "\n",
        "# Create the adapter-enhanced model\n",
        "model = MT5WithAdapters(base_model)\n",
        "\n",
        "# Verify which parameters are trainable\n",
        "trainable_params = 0\n",
        "all_params = 0\n",
        "for name, param in model.named_parameters():\n",
        "    all_params += param.numel()\n",
        "    if param.requires_grad:\n",
        "        trainable_params += param.numel()\n",
        "print(f\"Trainable parameters: {trainable_params:,} ({100 * trainable_params / all_params:.2f}% of all parameters)\")\n",
        "\n",
        "# Load and prepare dataset\n",
        "def load_dataset(csv_path):\n",
        "    df = pd.read_csv(csv_path)\n",
        "    # Make sure the column names match your dataset\n",
        "    # Assuming columns are 'article' and 'summary'\n",
        "    dataset = Dataset.from_pandas(df)\n",
        "    return dataset.train_test_split(test_size=0.1)\n",
        "\n",
        "# Preprocess function\n",
        "def preprocess_function(examples):\n",
        "    # Prefix for mT5 summarization task\n",
        "    prefix = \"summarize Arabic: \"\n",
        "    inputs = [prefix + doc for doc in examples[\"article\"]]\n",
        "\n",
        "    model_inputs = tokenizer(inputs, max_length=512, truncation=True, padding=\"max_length\")\n",
        "    labels = tokenizer(examples[\"summary\"], max_length=128, truncation=True, padding=\"max_length\")\n",
        "\n",
        "    model_inputs[\"labels\"] = labels[\"input_ids\"]\n",
        "    # Replace padding token id with -100 so it's ignored in loss computation\n",
        "    model_inputs[\"labels\"] = [\n",
        "        [(l if l != tokenizer.pad_token_id else -100) for l in label] for label in model_inputs[\"labels\"]\n",
        "    ]\n",
        "\n",
        "    return model_inputs\n",
        "\n",
        "# Metric function for evaluation\n",
        "rouge = evaluate.load(\"rouge\")\n",
        "\n",
        "def compute_metrics(eval_pred):\n",
        "    predictions, labels = eval_pred\n",
        "    decoded_preds = tokenizer.batch_decode(predictions, skip_special_tokens=True)\n",
        "\n",
        "    # Replace -100 with pad token id\n",
        "    labels = np.where(labels != -100, labels, tokenizer.pad_token_id)\n",
        "    decoded_labels = tokenizer.batch_decode(labels, skip_special_tokens=True)\n",
        "\n",
        "    result = rouge.compute(predictions=decoded_preds, references=decoded_labels, use_stemmer=True)\n",
        "\n",
        "    # Add mean generated length\n",
        "    prediction_lens = [len(pred.split()) for pred in decoded_preds]\n",
        "    result[\"gen_len\"] = np.mean(prediction_lens)\n",
        "\n",
        "    return {k: round(v, 4) for k, v in result.items()}\n",
        "\n",
        "# Load your dataset\n",
        "dataset = load_dataset(\"bbc_arabic_news_summarization.csv\")\n",
        "\n",
        "# Preprocess the data\n",
        "tokenized_datasets = dataset.map(preprocess_function, batched=True)\n",
        "\n",
        "# Define training arguments\n",
        "training_args = TrainingArguments(\n",
        "    output_dir=\"./results\",\n",
        "    evaluation_strategy=\"epoch\",\n",
        "    learning_rate=5e-4,\n",
        "    per_device_train_batch_size=4,\n",
        "    per_device_eval_batch_size=4,\n",
        "    weight_decay=0.01,\n",
        "    save_total_limit=3,\n",
        "    num_train_epochs=3,\n",
        "    predict_with_generate=True,\n",
        "    fp16=True,  # Enable mixed precision if GPU supports it\n",
        "    report_to=\"none\",\n",
        "    save_strategy=\"epoch\",\n",
        "    load_best_model_at_end=True,\n",
        ")\n",
        "\n",
        "# Initialize the trainer\n",
        "trainer = Trainer(\n",
        "    model=model,\n",
        "    args=training_args,\n",
        "    train_dataset=tokenized_datasets[\"train\"],\n",
        "    eval_dataset=tokenized_datasets[\"test\"],\n",
        "    tokenizer=tokenizer,\n",
        "    compute_metrics=compute_metrics,\n",
        ")\n",
        "\n",
        "# Train the model\n",
        "trainer.train()\n",
        "\n",
        "# Save the model\n",
        "model.save_pretrained(\"./arabic_news_summarizer\")\n",
        "tokenizer.save_pretrained(\"./arabic_news_summarizer\")\n",
        "\n",
        "# Test your model with a sample input\n",
        "def generate_summary(text):\n",
        "    inputs = tokenizer(\"summarize Arabic: \" + text, return_tensors=\"pt\", max_length=512, truncation=True)\n",
        "    summary_ids = model.generate(\n",
        "        inputs[\"input_ids\"],\n",
        "        max_length=128,\n",
        "        min_length=30,\n",
        "        length_penalty=2.0,\n",
        "        num_beams=4,\n",
        "        early_stopping=True\n",
        "    )\n",
        "    summary = tokenizer.decode(summary_ids[0], skip_special_tokens=True)\n",
        "    return summary\n",
        "\n",
        "# Example usage\n",
        "sample_article = \"أعلنت وزارة التعليم عن خطط جديدة وشاملة لتحسين التعليم في المدارس الابتدائية، حيث تهدف هذه المبادرات إلى تعزيز جودة التعليم وتطوير المناهج الدراسية لمواكبة التغيرات العالمية. وتركز الخطط أيضًا على تدريب المعلمين على استخدام أحدث أساليب التعليم التفاعلي وتوفير الموارد التعليمية المتقدمة التي تشمل كتبًا إلكترونية وأدوات تعلم رقمية. ومن المتوقع أن تساهم هذه الجهود في تحسين البيئة التعليمية للطلاب وتشجيع التعلم المستمر. بالإضافة إلى ذلك، تشمل الخطط بناء مدارس جديدة في المناطق النائية لتوفير التعليم للأطفال في المجتمعات المحرومة، وتطوير برامج لدمج التكنولوجيا في التعليم لضمان استعداد الطلاب لمتطلبات سوق العمل الحديثة. وأكدت الوزارة على أهمية التعاون مع أولياء الأمور والمجتمع المحلي لدعم تنفيذ هذه المبادرات الطموحة وتعزيز دور التعليم كأداة أساسية للتنمية الوطنية.\"\n",
        "print(generate_summary(sample_article))"
      ],
      "metadata": {
        "id": "3cKqqS306LIT"
      },
      "execution_count": null,
      "outputs": []
    },
    {
      "cell_type": "markdown",
      "source": [
        "# Save The Fine-Tuned Model"
      ],
      "metadata": {
        "id": "aAuZie2J7r9o"
      }
    },
    {
      "cell_type": "markdown",
      "source": [],
      "metadata": {
        "id": "8rYeGIYq6m4m"
      }
    },
    {
      "cell_type": "code",
      "source": [
        "# Data collator\n",
        "data_collator = DataCollatorForSeq2Seq(tokenizer, model=base_model)\n",
        "\n",
        "# Trainer\n",
        "trainer = Seq2SeqTrainer(\n",
        "    model=model,\n",
        "    args=training_args,\n",
        "    train_dataset=train_dataset,\n",
        "    eval_dataset=valid_dataset,\n",
        "    tokenizer=tokenizer,\n",
        "    data_collator=data_collator,\n",
        ")\n",
        "\n",
        "# Train!\n",
        "trainer.train()\n",
        "# Save model\n",
        "trainer.save_model(\"./saved_model_custom_head\")\n",
        "\n",
        "# Save tokenizer\n",
        "tokenizer.save_pretrained(\"./saved_model_custom_head\")\n"
      ],
      "metadata": {
        "id": "D-Lmo17F8Cjv"
      },
      "execution_count": null,
      "outputs": []
    },
    {
      "cell_type": "markdown",
      "source": [
        "# Test Model"
      ],
      "metadata": {
        "id": "uJNmktud8O1D"
      }
    },
    {
      "cell_type": "code",
      "source": [
        "def generate_summary(text):\n",
        "    # Tokenize\n",
        "    inputs = tokenizer(text, return_tensors=\"pt\", padding=True, truncation=True, max_length=512)\n",
        "    input_ids = inputs.input_ids.to(device)\n",
        "    attention_mask = inputs.attention_mask.to(device)\n",
        "\n",
        "    # Get encoder outputs\n",
        "    with torch.no_grad():\n",
        "        encoder_outputs = model.base_model.encoder(input_ids=input_ids, attention_mask=attention_mask).last_hidden_state\n",
        "        logits = model.custom_head(encoder_outputs)\n",
        "\n",
        "    # Convert logits to token ids\n",
        "    predicted_ids = torch.argmax(logits, dim=-1)\n",
        "\n",
        "    # Decode\n",
        "    summary = tokenizer.decode(predicted_ids[0], skip_special_tokens=True)\n",
        "    return summary\n",
        "\n",
        "# Example\n",
        "new_text = \"أعلنت وزارة التعليم عن خطط جديدة وشاملة لتحسين التعليم في المدارس الابتدائية، حيث تهدف هذه المبادرات إلى تعزيز جودة التعليم وتطوير المناهج الدراسية لمواكبة التغيرات العالمية. وتركز الخطط أيضًا على تدريب المعلمين على استخدام أحدث أساليب التعليم التفاعلي وتوفير الموارد التعليمية المتقدمة التي تشمل كتبًا إلكترونية وأدوات تعلم رقمية. ومن المتوقع أن تساهم هذه الجهود في تحسين البيئة التعليمية للطلاب وتشجيع التعلم المستمر. بالإضافة إلى ذلك، تشمل الخطط بناء مدارس جديدة في المناطق النائية لتوفير التعليم للأطفال في المجتمعات المحرومة، وتطوير برامج لدمج التكنولوجيا في التعليم لضمان استعداد الطلاب لمتطلبات سوق العمل الحديثة. وأكدت الوزارة على أهمية التعاون مع أولياء الأمور والمجتمع المحلي لدعم تنفيذ هذه المبادرات الطموحة وتعزيز دور التعليم كأداة أساسية للتنمية الوطنية.\"\n",
        "generated_summary = generate_summary(new_text)\n",
        "print(\"Generated Summary:\", generated_summary)\n",
        "\n"
      ],
      "metadata": {
        "id": "ZHXWNm1p8RpQ"
      },
      "execution_count": null,
      "outputs": []
    }
  ]
}